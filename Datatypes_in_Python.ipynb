{
  "nbformat": 4,
  "nbformat_minor": 0,
  "metadata": {
    "colab": {
      "name": "Datatypes_in_Python.ipynb",
      "provenance": [],
      "authorship_tag": "ABX9TyM42SE0T4pzMPOy8PtiJXCj",
      "include_colab_link": true
    },
    "kernelspec": {
      "name": "python3",
      "display_name": "Python 3"
    }
  },
  "cells": [
    {
      "cell_type": "markdown",
      "metadata": {
        "id": "view-in-github",
        "colab_type": "text"
      },
      "source": [
        "<a href=\"https://colab.research.google.com/github/rikdas/Tutorials/blob/master/Datatypes_in_Python.ipynb\" target=\"_parent\"><img src=\"https://colab.research.google.com/assets/colab-badge.svg\" alt=\"Open In Colab\"/></a>"
      ]
    },
    {
      "cell_type": "markdown",
      "metadata": {
        "id": "G_itRbO2JDIq",
        "colab_type": "text"
      },
      "source": [
        "# Python DataTypes "
      ]
    },
    {
      "cell_type": "markdown",
      "metadata": {
        "id": "bTu0iozbJUW_",
        "colab_type": "text"
      },
      "source": [
        "Use of different variables in Python do not require declaration of it's corresponding datatype. Python is very flexible and allows assigning of values straightaway to variables. Python gets to know of it's type on it's own.\n",
        "\n",
        "**Types of Variables**\n",
        "1.   Numbers\n",
        "2.   Strings \n",
        "\n",
        "1.   Lists\n",
        "2.   Tuples\n",
        "\n",
        "1.   Dictionary\n",
        "\n",
        "\n",
        "\n",
        "\n",
        "\n",
        "\n"
      ]
    },
    {
      "cell_type": "markdown",
      "metadata": {
        "id": "9h7mVqV7J2Qj",
        "colab_type": "text"
      },
      "source": [
        "**1. Numbers** : integer and float"
      ]
    },
    {
      "cell_type": "code",
      "metadata": {
        "id": "3XEXwEzcL04f",
        "colab_type": "code",
        "outputId": "3461aba4-9837-46b3-d56a-45b22623b77c",
        "colab": {
          "base_uri": "https://localhost:8080/",
          "height": 102
        }
      },
      "source": [
        "x = 50       # assigning Integer Variables\n",
        "y = 50.25    # assigning Float Variables\n",
        "print(x,  \"is the integer value assigned to x\" ) # printing value assigned to x \n",
        "\n",
        "\n",
        "print(type(x), \":is the datatype of x\") # checking the datatype of variable assigned to x\n",
        "\n",
        "print(y, \"is the float value assigned to y\") # printing value assigned to y\n",
        "\n",
        "print(type(y), \":is the datatype of y\") # checking the datatype of variable assigned to y\n",
        "\n",
        "a = b = 100 # multiple assignments \n",
        "\n",
        "print (a , b, \":this is the output where both a and b are assigned with 100\") # printing multiple assignments"
      ],
      "execution_count": 0,
      "outputs": [
        {
          "output_type": "stream",
          "text": [
            "50 is the integer value assigned to x\n",
            "<class 'int'> :is the datatype of x\n",
            "50.25 is the float value assigned to y\n",
            "<class 'float'> :is the datatype of y\n",
            "100 100 :this is the output where both a and b are assigned with 100\n"
          ],
          "name": "stdout"
        }
      ]
    },
    {
      "cell_type": "markdown",
      "metadata": {
        "id": "_3_JWGdUN6xb",
        "colab_type": "text"
      },
      "source": [
        "**2. Strings** :  are arrays of bytes representing unicode characters. Python does not have a character data type, a single character is simply a string with a length of 1."
      ]
    },
    {
      "cell_type": "code",
      "metadata": {
        "id": "vPg_JKmhN-Lp",
        "colab_type": "code",
        "outputId": "9a6e40f8-1db7-4373-8d41-4656c0c32417",
        "colab": {
          "base_uri": "https://localhost:8080/",
          "height": 51
        }
      },
      "source": [
        "s = 'Python' # string assignment must have '' / \" \". Eg: s = 'Python' or s = \"Python\"\n",
        "print (s)\n",
        "s = \"Python\"\n",
        "print (s)"
      ],
      "execution_count": 0,
      "outputs": [
        {
          "output_type": "stream",
          "text": [
            "Python\n",
            "Python\n"
          ],
          "name": "stdout"
        }
      ]
    },
    {
      "cell_type": "markdown",
      "metadata": {
        "id": "cew9KxkqQUon",
        "colab_type": "text"
      },
      "source": [
        "Python assignments start from [0]. Hence the first element of a string is accesed as s[0]"
      ]
    },
    {
      "cell_type": "code",
      "metadata": {
        "id": "wlZobfaYQMz8",
        "colab_type": "code",
        "outputId": "d541b22d-f7e0-431b-9b5e-87be4993cb67",
        "colab": {
          "base_uri": "https://localhost:8080/",
          "height": 34
        }
      },
      "source": [
        "print (s[0]) # accessing first element in string"
      ],
      "execution_count": 0,
      "outputs": [
        {
          "output_type": "stream",
          "text": [
            "P\n"
          ],
          "name": "stdout"
        }
      ]
    },
    {
      "cell_type": "code",
      "metadata": {
        "id": "HIlhESCJQisb",
        "colab_type": "code",
        "outputId": "263d862c-5b1e-4c70-cea9-60f5ce277d21",
        "colab": {
          "base_uri": "https://localhost:8080/",
          "height": 34
        }
      },
      "source": [
        "print (s[-1]) #accessing the last element in the string "
      ],
      "execution_count": 0,
      "outputs": [
        {
          "output_type": "stream",
          "text": [
            "n\n"
          ],
          "name": "stdout"
        }
      ]
    },
    {
      "cell_type": "code",
      "metadata": {
        "id": "655DmumIQ293",
        "colab_type": "code",
        "outputId": "c87a7484-7be0-4a5d-f223-b495f09c34a5",
        "colab": {
          "base_uri": "https://localhost:8080/",
          "height": 34
        }
      },
      "source": [
        "print (s[3:6]) # accessing third to sixth element "
      ],
      "execution_count": 0,
      "outputs": [
        {
          "output_type": "stream",
          "text": [
            "hon\n"
          ],
          "name": "stdout"
        }
      ]
    },
    {
      "cell_type": "code",
      "metadata": {
        "id": "0bZVGXDrWxDm",
        "colab_type": "code",
        "outputId": "c81e6798-1857-4937-f4e4-7f113a6cb727",
        "colab": {
          "base_uri": "https://localhost:8080/",
          "height": 51
        }
      },
      "source": [
        "print (s[1:]) # accessing from the first [1] element (remember: not the first postion) till last \n",
        "print (s[0:]) # accessing from the zero [0] element "
      ],
      "execution_count": 0,
      "outputs": [
        {
          "output_type": "stream",
          "text": [
            "ython\n",
            "Python\n"
          ],
          "name": "stdout"
        }
      ]
    },
    {
      "cell_type": "code",
      "metadata": {
        "id": "ar3U2alsXrIV",
        "colab_type": "code",
        "outputId": "d90fbe76-211d-4aaf-879a-bcf3f4a311f7",
        "colab": {
          "base_uri": "https://localhost:8080/",
          "height": 34
        }
      },
      "source": [
        "print(s + ' is a smart language') # string concatenation. you may press the spacebar or type '\\t' for allowing spaces between two words"
      ],
      "execution_count": 0,
      "outputs": [
        {
          "output_type": "stream",
          "text": [
            "Python is a smart language\n"
          ],
          "name": "stdout"
        }
      ]
    },
    {
      "cell_type": "code",
      "metadata": {
        "id": "l7-YrizgYHDV",
        "colab_type": "code",
        "outputId": "41b69a98-c8fd-4f56-b3f6-40b3f16bd818",
        "colab": {
          "base_uri": "https://localhost:8080/",
          "height": 34
        }
      },
      "source": [
        "print (s*4) #priniting more than once"
      ],
      "execution_count": 0,
      "outputs": [
        {
          "output_type": "stream",
          "text": [
            "PythonPythonPythonPython\n"
          ],
          "name": "stdout"
        }
      ]
    },
    {
      "cell_type": "markdown",
      "metadata": {
        "id": "YKRC7HDsYVAJ",
        "colab_type": "text"
      },
      "source": [
        "**3. Lists** :  a list is created by placing all the items (elements) inside a square bracket [ ], separated by commas. It can have any number of items and they may be of different types (integer, float, string etc.). A list can even have another list as an item."
      ]
    },
    {
      "cell_type": "code",
      "metadata": {
        "id": "DfwQRViAYmbx",
        "colab_type": "code",
        "outputId": "1cf979d5-18d6-4f0a-99a8-201311942254",
        "colab": {
          "base_uri": "https://localhost:8080/",
          "height": 68
        }
      },
      "source": [
        "l  = ['a', 'apple', 2.1, 10] #List elements are of different datatypes\n",
        "print(l)\n",
        "print(len(l)) # Length of variable l\n",
        "print(type(l)) # datatype of variabe l"
      ],
      "execution_count": 0,
      "outputs": [
        {
          "output_type": "stream",
          "text": [
            "['a', 'apple', 2.1, 10]\n",
            "4\n",
            "<class 'list'>\n"
          ],
          "name": "stdout"
        }
      ]
    },
    {
      "cell_type": "code",
      "metadata": {
        "id": "4wh_Cn9Ua4_X",
        "colab_type": "code",
        "outputId": "eab4f495-78bd-4faf-d9f2-58280f3e9381",
        "colab": {
          "base_uri": "https://localhost:8080/",
          "height": 51
        }
      },
      "source": [
        "l  = [['a', 'apple', 2.1, 10], [10, 20, 31, 40]] # declaring a list inside a list\n",
        "print (l) #printing list of lists\n",
        "print (len(l)) #the declared list is considered as 1 single element in list of lists. Hence the length of list is 5"
      ],
      "execution_count": 0,
      "outputs": [
        {
          "output_type": "stream",
          "text": [
            "[['a', 'apple', 2.1, 10], [10, 20, 31, 40]]\n",
            "2\n"
          ],
          "name": "stdout"
        }
      ]
    },
    {
      "cell_type": "code",
      "metadata": {
        "id": "pp4rNYTYbemc",
        "colab_type": "code",
        "outputId": "2f9b4c97-9180-49ad-fb78-88cf9af0639a",
        "colab": {
          "base_uri": "https://localhost:8080/",
          "height": 153
        }
      },
      "source": [
        "print(l[0]) # Accessing first List \n",
        "print(l[1]) # Access second List \n",
        "print(l[0][1]) # Accessing second element of the first List\n",
        "print(l[-1]) # Accessing the last element of the List which itself is the second list\n",
        "print(len(l[0])) # Access the length of first list\n",
        "print(len(l[1])) # Access the length of second list\n",
        "print (len(l[0])+len(l[1])) #sum of length of two lists which are elements of list 'l'\n",
        "print (len(l)) #length of list 'l' is 2 since the other two lists are considered as two different elements inside the list 'l' "
      ],
      "execution_count": 0,
      "outputs": [
        {
          "output_type": "stream",
          "text": [
            "['a', 'apple', 2.1, 10]\n",
            "[10, 20, 31, 40]\n",
            "apple\n",
            "[10, 20, 31, 40]\n",
            "4\n",
            "4\n",
            "8\n",
            "2\n"
          ],
          "name": "stdout"
        }
      ]
    },
    {
      "cell_type": "markdown",
      "metadata": {
        "id": "KYasVLHIelu7",
        "colab_type": "text"
      },
      "source": [
        "*Items can be added and/or deleted from lists which makes lists mutable*"
      ]
    },
    {
      "cell_type": "code",
      "metadata": {
        "id": "U3-zMJewej7a",
        "colab_type": "code",
        "outputId": "fb999631-03d9-4088-be7f-918db764f733",
        "colab": {
          "base_uri": "https://localhost:8080/",
          "height": 85
        }
      },
      "source": [
        "x = ['Saloni', 'Tanmoy', 15.5, 20] # declaring a list\n",
        "print(x)\n",
        "x.append('cat') # adding element to list\n",
        "print(x)\n",
        "x.remove('cat') #removing element from list\n",
        "print(x)\n",
        "x[1] = 'Rahul' #replacing element from list position-wise\n",
        "print(x)\n",
        "\n"
      ],
      "execution_count": 0,
      "outputs": [
        {
          "output_type": "stream",
          "text": [
            "['Saloni', 'Tanmoy', 15.5, 20]\n",
            "['Saloni', 'Tanmoy', 15.5, 20, 'cat']\n",
            "['Saloni', 'Tanmoy', 15.5, 20]\n",
            "['Saloni', 'Rahul', 15.5, 20]\n"
          ],
          "name": "stdout"
        }
      ]
    },
    {
      "cell_type": "markdown",
      "metadata": {
        "id": "AqXXizRNhGXv",
        "colab_type": "text"
      },
      "source": [
        "**4. Tuples** : A tuple is an immutable sequence of Python objects. Tuples are sequences, just like lists. The differences between tuples and lists are, the tuples cannot be changed unlike lists and tuples use parentheses, whereas lists use square brackets."
      ]
    },
    {
      "cell_type": "code",
      "metadata": {
        "id": "B5wp9u7XhT8j",
        "colab_type": "code",
        "outputId": "0a408acb-9af6-4393-c643-785703f77c33",
        "colab": {
          "base_uri": "https://localhost:8080/",
          "height": 231
        }
      },
      "source": [
        "t = ('Angshuman', 'Ritesh', 45, 78.25, 'r') #declaring tuple\n",
        "print (t)\n",
        "print(t[4]) # accessing tuple elements\n",
        "\n",
        "t[2] = 31 #attempting to change elements of tuple will return error"
      ],
      "execution_count": 0,
      "outputs": [
        {
          "output_type": "stream",
          "text": [
            "('Angshuman', 'Ritesh', 45, 78.25, 'r')\n",
            "r\n"
          ],
          "name": "stdout"
        },
        {
          "output_type": "error",
          "ename": "TypeError",
          "evalue": "ignored",
          "traceback": [
            "\u001b[0;31m---------------------------------------------------------------------------\u001b[0m",
            "\u001b[0;31mTypeError\u001b[0m                                 Traceback (most recent call last)",
            "\u001b[0;32m<ipython-input-71-d450cf35d972>\u001b[0m in \u001b[0;36m<module>\u001b[0;34m()\u001b[0m\n\u001b[1;32m      3\u001b[0m \u001b[0mprint\u001b[0m\u001b[0;34m(\u001b[0m\u001b[0mt\u001b[0m\u001b[0;34m[\u001b[0m\u001b[0;36m4\u001b[0m\u001b[0;34m]\u001b[0m\u001b[0;34m)\u001b[0m \u001b[0;31m# accessing tuple elements\u001b[0m\u001b[0;34m\u001b[0m\u001b[0;34m\u001b[0m\u001b[0m\n\u001b[1;32m      4\u001b[0m \u001b[0;34m\u001b[0m\u001b[0m\n\u001b[0;32m----> 5\u001b[0;31m \u001b[0mt\u001b[0m\u001b[0;34m[\u001b[0m\u001b[0;36m2\u001b[0m\u001b[0;34m]\u001b[0m \u001b[0;34m=\u001b[0m \u001b[0;36m31\u001b[0m\u001b[0;34m\u001b[0m\u001b[0;34m\u001b[0m\u001b[0m\n\u001b[0m",
            "\u001b[0;31mTypeError\u001b[0m: 'tuple' object does not support item assignment"
          ]
        }
      ]
    },
    {
      "cell_type": "markdown",
      "metadata": {
        "id": "fgPfqswQi0_J",
        "colab_type": "text"
      },
      "source": [
        "**5. Dictionary** : Python dictionary is an unordered collection of items. While other compound data types have only value as an element, a dictionary has a key: value pair."
      ]
    },
    {
      "cell_type": "code",
      "metadata": {
        "id": "YQvKlBKrjHbl",
        "colab_type": "code",
        "outputId": "256c67ba-bdf3-4620-e6ce-02072d2695ad",
        "colab": {
          "base_uri": "https://localhost:8080/",
          "height": 153
        }
      },
      "source": [
        "d = {'First Name' : 'Tanmoy',\n",
        "     'Last Name' : 'Bose',\n",
        "     'Age' : 21,\n",
        "     'Qualification': 'Graduate'}# declaring a Dictionary with key:value pairs\n",
        "\n",
        "print (d)\n",
        "print(len(d), \" is the length of dictionary\") #length of dictionary\n",
        "print(d.keys(), ' are the keys available in the dictionary') #keys in dictionary\n",
        "print(d.values(), 'are the corresponding values assigned to the keys') #values in dictionary\n",
        "print(d['Age']) # accessing corresponding value assigned to a key\n",
        "d['Height'] = '5 ft. 10 inches' #adding new key:value pair to dictionary\n",
        "print (d)\n",
        "d['Height'] = '6 ft. 2 inches' # changing value for a corresponding key\n",
        "print (d)\n",
        "del d['Height'] # removing a key value pair\n",
        "print (d)"
      ],
      "execution_count": 0,
      "outputs": [
        {
          "output_type": "stream",
          "text": [
            "{'First Name': 'Tanmoy', 'Last Name': 'Bose', 'Age': 21, 'Qualification': 'Graduate'}\n",
            "4  is the length of dictionary\n",
            "dict_keys(['First Name', 'Last Name', 'Age', 'Qualification'])  are the keys available in the dictionary\n",
            "dict_values(['Tanmoy', 'Bose', 21, 'Graduate']) are the corresponding values assigned to the keys\n",
            "21\n",
            "{'First Name': 'Tanmoy', 'Last Name': 'Bose', 'Age': 21, 'Qualification': 'Graduate', 'Height': '5 ft. 10 inches'}\n",
            "{'First Name': 'Tanmoy', 'Last Name': 'Bose', 'Age': 21, 'Qualification': 'Graduate', 'Height': '6 ft. 2 inches'}\n",
            "{'First Name': 'Tanmoy', 'Last Name': 'Bose', 'Age': 21, 'Qualification': 'Graduate'}\n"
          ],
          "name": "stdout"
        }
      ]
    }
  ]
}