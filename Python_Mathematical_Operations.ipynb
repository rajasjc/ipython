{
  "nbformat": 4,
  "nbformat_minor": 0,
  "metadata": {
    "colab": {
      "name": "Python_Mathematical_Operations.ipynb",
      "provenance": [],
      "authorship_tag": "ABX9TyMbAatwttOW/MhQdz0Z3H/F",
      "include_colab_link": true
    },
    "kernelspec": {
      "name": "python3",
      "display_name": "Python 3"
    }
  },
  "cells": [
    {
      "cell_type": "markdown",
      "metadata": {
        "id": "view-in-github",
        "colab_type": "text"
      },
      "source": [
        "<a href=\"https://colab.research.google.com/github/rikdas/Tutorials/blob/master/Python_Mathematical_Operations.ipynb\" target=\"_parent\"><img src=\"https://colab.research.google.com/assets/colab-badge.svg\" alt=\"Open In Colab\"/></a>"
      ]
    },
    {
      "cell_type": "markdown",
      "metadata": {
        "id": "mYhjF3mLC8dO",
        "colab_type": "text"
      },
      "source": [
        "# Your first line in Python"
      ]
    },
    {
      "cell_type": "code",
      "metadata": {
        "id": "jDW2ZeNTDNhn",
        "colab_type": "code",
        "outputId": "dcb94de4-66b5-4d20-b46f-5acd569a6eb8",
        "colab": {
          "base_uri": "https://localhost:8080/",
          "height": 34
        }
      },
      "source": [
        "print (\"Hello Python\")"
      ],
      "execution_count": 0,
      "outputs": [
        {
          "output_type": "stream",
          "text": [
            "Hello Python\n"
          ],
          "name": "stdout"
        }
      ]
    },
    {
      "cell_type": "markdown",
      "metadata": {
        "id": "CeJVhQ4gHOYL",
        "colab_type": "text"
      },
      "source": [
        "**Mathematical Operations in Python**"
      ]
    },
    {
      "cell_type": "code",
      "metadata": {
        "id": "sEkUFxzgDYF9",
        "colab_type": "code",
        "outputId": "2804e731-8d1f-48d9-d1ba-13944c5ca3ac",
        "colab": {
          "base_uri": "https://localhost:8080/",
          "height": 34
        }
      },
      "source": [
        "2+3 #Addition "
      ],
      "execution_count": 0,
      "outputs": [
        {
          "output_type": "execute_result",
          "data": {
            "text/plain": [
              "5"
            ]
          },
          "metadata": {
            "tags": []
          },
          "execution_count": 6
        }
      ]
    },
    {
      "cell_type": "code",
      "metadata": {
        "id": "EulcUG56HDm-",
        "colab_type": "code",
        "outputId": "2be163dc-db61-4040-e681-97c0cb4f83b5",
        "colab": {
          "base_uri": "https://localhost:8080/",
          "height": 34
        }
      },
      "source": [
        "10-7 #Subtraction"
      ],
      "execution_count": 0,
      "outputs": [
        {
          "output_type": "execute_result",
          "data": {
            "text/plain": [
              "3"
            ]
          },
          "metadata": {
            "tags": []
          },
          "execution_count": 10
        }
      ]
    },
    {
      "cell_type": "code",
      "metadata": {
        "id": "tj422B4CGTe8",
        "colab_type": "code",
        "outputId": "eeca9939-5f09-488e-91ee-1b4e7dbeb9e5",
        "colab": {
          "base_uri": "https://localhost:8080/",
          "height": 34
        }
      },
      "source": [
        "3*5 #Multiplication"
      ],
      "execution_count": 0,
      "outputs": [
        {
          "output_type": "execute_result",
          "data": {
            "text/plain": [
              "15"
            ]
          },
          "metadata": {
            "tags": []
          },
          "execution_count": 8
        }
      ]
    },
    {
      "cell_type": "code",
      "metadata": {
        "id": "9Lr_1W_6Gbyc",
        "colab_type": "code",
        "outputId": "958f3de6-6856-4abe-bde9-3573eaffb130",
        "colab": {
          "base_uri": "https://localhost:8080/",
          "height": 34
        }
      },
      "source": [
        "10/5 #Division"
      ],
      "execution_count": 0,
      "outputs": [
        {
          "output_type": "execute_result",
          "data": {
            "text/plain": [
              "2.0"
            ]
          },
          "metadata": {
            "tags": []
          },
          "execution_count": 9
        }
      ]
    },
    {
      "cell_type": "code",
      "metadata": {
        "id": "Ws7-9r2AHrAU",
        "colab_type": "code",
        "outputId": "408ce4f1-d3ca-49a0-ad42-5c38896b910c",
        "colab": {
          "base_uri": "https://localhost:8080/",
          "height": 34
        }
      },
      "source": [
        "9%5 #Modular Division. The result is Remainder"
      ],
      "execution_count": 0,
      "outputs": [
        {
          "output_type": "execute_result",
          "data": {
            "text/plain": [
              "4"
            ]
          },
          "metadata": {
            "tags": []
          },
          "execution_count": 13
        }
      ]
    },
    {
      "cell_type": "code",
      "metadata": {
        "id": "Sx4mJmg6H69U",
        "colab_type": "code",
        "outputId": "4fba5e5e-64e9-4f75-be28-8fb48f19a584",
        "colab": {
          "base_uri": "https://localhost:8080/",
          "height": 34
        }
      },
      "source": [
        "print(22//3) #Floor Division. The result is quotient"
      ],
      "execution_count": 0,
      "outputs": [
        {
          "output_type": "stream",
          "text": [
            "7\n"
          ],
          "name": "stdout"
        }
      ]
    },
    {
      "cell_type": "code",
      "metadata": {
        "id": "w9MxDjaBGkvi",
        "colab_type": "code",
        "outputId": "94be5c42-c9ae-439b-bb02-4fd283530673",
        "colab": {
          "base_uri": "https://localhost:8080/",
          "height": 34
        }
      },
      "source": [
        "10**2 #power"
      ],
      "execution_count": 0,
      "outputs": [
        {
          "output_type": "execute_result",
          "data": {
            "text/plain": [
              "100"
            ]
          },
          "metadata": {
            "tags": []
          },
          "execution_count": 11
        }
      ]
    }
  ]
}